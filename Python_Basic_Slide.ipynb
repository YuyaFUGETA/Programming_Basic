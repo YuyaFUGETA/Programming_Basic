{
 "cells": [
  {
   "cell_type": "markdown",
   "metadata": {
    "slideshow": {
     "slide_type": "slide"
    }
   },
   "source": [
    "# Python + Jupyterで学ぶ\n",
    "# プログラミングの基礎"
   ]
  },
  {
   "cell_type": "markdown",
   "metadata": {
    "slideshow": {
     "slide_type": "slide"
    }
   },
   "source": [
    "## アジェンダ\n",
    "- 自己紹介\n",
    "- 本講座の目的\n",
    "- プログラムとはなにか\n",
    "- 環境構築\n",
    "- プログラミングの基本\n",
    "- ちょっとした環境構築\n",
    "- 補足・質疑応答 "
   ]
  },
  {
   "cell_type": "markdown",
   "metadata": {
    "slideshow": {
     "slide_type": "slide"
    }
   },
   "source": [
    "## 自己紹介\n",
    "システム開発会社で主に販売管理システムの開発(言語はC#)。  \n",
    "開発をメインとしてお客様先への導入支援・導入後のお問い合わせ対応など稼働支援も経験あり。  \n",
    "技術の幅を広げるためにPythonを習得中。"
   ]
  },
  {
   "cell_type": "markdown",
   "metadata": {
    "slideshow": {
     "slide_type": "slide"
    }
   },
   "source": [
    "## 本講座の目的"
   ]
  },
  {
   "cell_type": "markdown",
   "metadata": {
    "slideshow": {
     "slide_type": "fragment"
    }
   },
   "source": [
    "- Step1. プログラムとはなにかを理解する"
   ]
  },
  {
   "cell_type": "markdown",
   "metadata": {
    "slideshow": {
     "slide_type": "fragment"
    }
   },
   "source": [
    "- Step2. Pythonの開発環境を整える"
   ]
  },
  {
   "cell_type": "markdown",
   "metadata": {
    "slideshow": {
     "slide_type": "fragment"
    }
   },
   "source": [
    "- Step3. プログラミングの基本を理解する"
   ]
  },
  {
   "cell_type": "markdown",
   "metadata": {
    "slideshow": {
     "slide_type": "slide"
    }
   },
   "source": [
    "## 下準備・作業フォルダの作成\n",
    "\n",
    "デスクトップに「python」という名前のフォルダを作成"
   ]
  },
  {
   "cell_type": "markdown",
   "metadata": {
    "slideshow": {
     "slide_type": "slide"
    }
   },
   "source": [
    "## 下準備・Anacondaのインストール\n",
    "\n",
    "USBメモリからOSに合わせたインストーラーをデスクトップにコピーしインストール。\n",
    "\n",
    "もしくは\n",
    "\n",
    "https://www.anaconda.com/download/\n",
    "\n",
    "からOSに合わせたインストーラーをダウンロードし、インストール。"
   ]
  },
  {
   "cell_type": "markdown",
   "metadata": {
    "slideshow": {
     "slide_type": "slide"
    }
   },
   "source": [
    "## Step1. プログラムとはなにか理解する"
   ]
  },
  {
   "cell_type": "markdown",
   "metadata": {
    "slideshow": {
     "slide_type": "slide"
    }
   },
   "source": [
    "## プログラムとはなにか \n",
    "\n",
    "プログラムとは…コンピュータへの命令  \n",
    "プログラミングとは…コンピュータへの命令(プログラム)を書くこと\n",
    "\n",
    "コンピュータへの命令なのでコンピュータが解釈できるような\n",
    "ルールに従って書くことが必要"
   ]
  },
  {
   "cell_type": "markdown",
   "metadata": {
    "slideshow": {
     "slide_type": "slide"
    }
   },
   "source": [
    "## プログラミング言語とは\n",
    "\n",
    "プログラムを書く際のルール\n",
    "\n",
    "<img src=\"https://www.python.org/static/img/python-logo@2x.png\" width=\"40%\" >\n",
    "<img src=\"http://php.net//images/logos/new-php-logo.svg\"  width=\"20%\">"
   ]
  },
  {
   "cell_type": "markdown",
   "metadata": {
    "slideshow": {
     "slide_type": "slide"
    }
   },
   "source": [
    "## プログラミング言語の分類\n",
    "\n",
    "プログラムをコンピュータに実行させる方式による分類\n",
    "\n",
    "- アセンブリ言語\n",
    "- コンパイル言語\n",
    "- インタプリタ言語（スクリプト言語）→Pythonはこれ\n",
    "\n",
    "上からマシン語に近い順"
   ]
  },
  {
   "cell_type": "markdown",
   "metadata": {
    "slideshow": {
     "slide_type": "slide"
    }
   },
   "source": [
    "## Step2. Pythonの開発環境を整える"
   ]
  },
  {
   "cell_type": "markdown",
   "metadata": {
    "slideshow": {
     "slide_type": "slide"
    }
   },
   "source": [
    "## Pythonとは？\n",
    "<img src=\"https://www.python.org/static/img/python-logo@2x.png\"  width=\"40%\">\n",
    "昨今のAIブームで注目されているプログラミング言語。\n",
    "\n",
    "シンプルに設計されており、C言語やJavaなどに比べて、少ない行数で書けるといった特徴がある。"
   ]
  },
  {
   "cell_type": "markdown",
   "metadata": {
    "slideshow": {
     "slide_type": "slide"
    }
   },
   "source": [
    "## Python3系とPython2系\n",
    "特別な理由が無い限り、Python3系（最新バージョン）を選択。"
   ]
  },
  {
   "cell_type": "markdown",
   "metadata": {
    "slideshow": {
     "slide_type": "slide"
    }
   },
   "source": [
    "# Pythonの特徴"
   ]
  },
  {
   "cell_type": "markdown",
   "metadata": {
    "slideshow": {
     "slide_type": "fragment"
    }
   },
   "source": [
    "- インデントの利用"
   ]
  },
  {
   "cell_type": "markdown",
   "metadata": {
    "slideshow": {
     "slide_type": "fragment"
    }
   },
   "source": [
    "- 誰が書いてもコードが同じようになる"
   ]
  },
  {
   "cell_type": "markdown",
   "metadata": {
    "slideshow": {
     "slide_type": "fragment"
    }
   },
   "source": [
    "- 豊富なライブラリ(機能のまとまり)"
   ]
  },
  {
   "cell_type": "markdown",
   "metadata": {
    "slideshow": {
     "slide_type": "fragment"
    }
   },
   "source": [
    "- オブジェクト指向"
   ]
  },
  {
   "cell_type": "markdown",
   "metadata": {
    "slideshow": {
     "slide_type": "slide"
    }
   },
   "source": [
    "## 開発環境とは\n",
    "\n",
    "- プログラムを書くために必要なアプリケーション\n",
    "- プログラムを動かすために必要なアプリケーション\n",
    "\n",
    "これらをまとめたものが「開発環境」  \n",
    "→Anacondaをインストールするとこれが準備できる"
   ]
  },
  {
   "cell_type": "markdown",
   "metadata": {
    "slideshow": {
     "slide_type": "slide"
    }
   },
   "source": [
    "## Anacondaのメリット\n",
    "<img src=\"https://www.anaconda.com/wp-content/themes/anaconda/images/logo-dark.png\" width=\"40%\">\n",
    "通常Pythonを使う場合はPython本体をインストールした後に、必要なライブラリを個別でインストールしていく必要がある。  \n",
    "しかし、今回紹介するAnacondaを利用すればPython本体・機械学習に必要な豊富なライブラリ・Jupyter Notebookをまとめてインストールができる。"
   ]
  },
  {
   "cell_type": "markdown",
   "metadata": {
    "slideshow": {
     "slide_type": "slide"
    }
   },
   "source": [
    "## Jupyter Notebookとは？\n",
    "<img src=\"https://cdn-ak.f.st-hatena.com/images/fotolife/l/liszworks/20170615/20170615001621.png\" width=\"40%\">\n",
    "Jupyter Notebookとは、ノートブックと呼ばれる形式で作成したプログラムをブラウザで実行できるツール。\n",
    "\n",
    "結果を確認しながらプログラムを実行できるので、データ分析や機械学習の作業を進めるのに重宝する。"
   ]
  },
  {
   "cell_type": "code",
   "execution_count": null,
   "metadata": {
    "slideshow": {
     "slide_type": "slide"
    }
   },
   "outputs": [],
   "source": [
    "def add(x, y):\n",
    "    return x + y\n",
    " \n",
    "sum = add(50, 180)\n",
    "print(sum)"
   ]
  },
  {
   "cell_type": "markdown",
   "metadata": {
    "slideshow": {
     "slide_type": "slide"
    }
   },
   "source": [
    "## Jupyter Notebookを起動する\n",
    "\n",
    "- Windows：スタートメニューから「jupyter notebook」を選択\n",
    "- Mac：ターミナルを開いて、「jupyter notebook」と入力"
   ]
  },
  {
   "cell_type": "markdown",
   "metadata": {
    "slideshow": {
     "slide_type": "slide"
    }
   },
   "source": [
    "## Step3. プログラミングの基本を理解する"
   ]
  },
  {
   "cell_type": "markdown",
   "metadata": {
    "slideshow": {
     "slide_type": "slide"
    }
   },
   "source": [
    "## 下準備・講義ソースのダウンロード\n",
    "\n",
    "下記GitHubから資料をダウンロード。\n",
    "\n",
    "https://github.com/YuyaFUGETA/Programming_Basic\n",
    "\n",
    "https://github.com/takahiro-777/ML_tutorial\n",
    "\n",
    "https://github.com/takahiro-777/deeplearning_tutorial\n",
    "\n",
    "先程、作成した「python」フォルダに解凍"
   ]
  },
  {
   "cell_type": "markdown",
   "metadata": {
    "slideshow": {
     "slide_type": "slide"
    }
   },
   "source": [
    "## 補足・GitHubによるソースコード管理\n",
    "<img src=\"https://git-scm.com/images/logo@2x.png\" width=\"20%\"><img src=\"http://www.dataversity.net/wp-content/uploads/2014/09/GitHub_LogoMark304x200.png\" width=\"20%\">\n",
    "\n",
    "GitHubというWebサービスを利用することでオンラインでファイルを管理、公開することができる。\n",
    "数多くのプログラムを作成した際やチームでの開発の際に便利。(修正履歴の管理など)\n"
   ]
  },
  {
   "cell_type": "markdown",
   "metadata": {
    "slideshow": {
     "slide_type": "slide"
    }
   },
   "source": [
    "## 参考資料\n",
    "\n",
    "ML_tutorial/basic_python"
   ]
  },
  {
   "cell_type": "markdown",
   "metadata": {
    "slideshow": {
     "slide_type": "slide"
    }
   },
   "source": [
    "## お題・FizzBuzz問題\n",
    "\n",
    ">プレイヤーは円状に座る。最初のプレイヤーは「1」と数字を発言する。次のプレイヤーは直前のプレイヤーの次の数字を発言していく。ただし、3で割り切れる場合は「Fizz」（Bizz Buzzの場合は「Bizz」）、5で割り切れる場合は「Buzz」、両者で割り切れる場合（すなわち15で割り切れる場合）は「Fizz Buzz」（Bizz Buzzの場合は「Bizz Buzz」）を数の代わりに発言しなければならない。発言を間違えた者や、ためらった者は脱落となる。\n",
    "\n",
    "出典：https://ja.wikipedia.org/wiki/Fizz_Buzz"
   ]
  },
  {
   "cell_type": "markdown",
   "metadata": {
    "slideshow": {
     "slide_type": "slide"
    }
   },
   "source": [
    "結果は下記のようになる。"
   ]
  },
  {
   "cell_type": "markdown",
   "metadata": {
    "slideshow": {
     "slide_type": "slide"
    }
   },
   "source": [
    "　 　　　1<br>\n",
    "　 　　　2<br>\n",
    "　 　　　Fizz<br>\n",
    "　 　　　4<br>\n",
    "　 　　　Buzz<br>\n",
    "　 　　　Fizz<br>\n",
    "　 　　　7<br>\n",
    "　 　　　8<br>\n",
    "　 　　　Fizz<br>\n",
    "　 　　　...<br>"
   ]
  },
  {
   "cell_type": "markdown",
   "metadata": {
    "slideshow": {
     "slide_type": "slide"
    }
   },
   "source": [
    "> 1から100までの数をプリントするプログラムを書け。ただし3の倍数のときは数の代わりに｢Fizz｣と、5の倍数のときは｢Buzz｣とプリントし、3と5両方の倍数の場合には｢FizzBuzz｣とプリントすること。\n",
    "\n",
    "出典: http://www.aoky.net/articles/jeff_atwood/why_cant_programmers_program.htm"
   ]
  },
  {
   "cell_type": "markdown",
   "metadata": {
    "slideshow": {
     "slide_type": "slide"
    }
   },
   "source": [
    "##  プログラムを読んでみよう\n",
    "\n",
    "2パターンの回答を用意しています。  \n",
    "Python_Basic\\FizzBuzz_1  \n",
    "Python_Basic\\FizzBuzz_2  \n",
    "\n",
    "1.それぞれのプログラムを実行してみましょう  \n",
    "2.それぞれ1行1行なにをやっているか推測してみましょう  \n",
    "3.どちらのパターンがいい書き方か考えてみましょう"
   ]
  },
  {
   "cell_type": "markdown",
   "metadata": {
    "slideshow": {
     "slide_type": "slide"
    }
   },
   "source": [
    "## どちらのパターンがいいと思いましたか"
   ]
  },
  {
   "cell_type": "markdown",
   "metadata": {
    "slideshow": {
     "slide_type": "fragment"
    }
   },
   "source": [
    "1つ目だと思う方"
   ]
  },
  {
   "cell_type": "markdown",
   "metadata": {
    "slideshow": {
     "slide_type": "fragment"
    }
   },
   "source": [
    "2つ目だと思う方"
   ]
  },
  {
   "cell_type": "markdown",
   "metadata": {
    "slideshow": {
     "slide_type": "fragment"
    }
   },
   "source": [
    "答え:2つ目で書きましょう！"
   ]
  },
  {
   "cell_type": "markdown",
   "metadata": {
    "slideshow": {
     "slide_type": "slide"
    }
   },
   "source": [
    "## プログラミングでよくある考え方\n",
    "\n",
    "繰り返し同じことを書かない!"
   ]
  },
  {
   "cell_type": "markdown",
   "metadata": {
    "slideshow": {
     "slide_type": "slide"
    }
   },
   "source": [
    "## 1.出力"
   ]
  },
  {
   "cell_type": "code",
   "execution_count": null,
   "metadata": {
    "slideshow": {
     "slide_type": "fragment"
    }
   },
   "outputs": [],
   "source": [
    "#数値を出力\n",
    "print(1)\n",
    "\n",
    "#文字を出力\n",
    "print(\"Fizz\")\n",
    "\n",
    "# Jupyterの便利機能その1\n",
    "# prまで入力してtabキーを二回押してみよう\n"
   ]
  },
  {
   "cell_type": "markdown",
   "metadata": {
    "slideshow": {
     "slide_type": "slide"
    }
   },
   "source": [
    "## 2.変数と代入"
   ]
  },
  {
   "cell_type": "code",
   "execution_count": null,
   "metadata": {
    "slideshow": {
     "slide_type": "fragment"
    }
   },
   "outputs": [],
   "source": [
    "#変数…データを入れておく箱\n",
    "#「=(イコール)」は左辺の変数に、右辺の値を入れると覚える\n",
    "#数学での「等しい」の意味はない!\n",
    "\n",
    "#変数startに数値1を代入\n",
    "start = 1\n",
    "\n",
    "#変数endに数値100を代入\n",
    "end = 100"
   ]
  },
  {
   "cell_type": "code",
   "execution_count": null,
   "metadata": {
    "slideshow": {
     "slide_type": "slide"
    }
   },
   "outputs": [],
   "source": [
    "# Jupyterの便利機能その2\n",
    "# Shift + Tab\n",
    "# 下のstartにカーソルを当てて押してみよう\n",
    "start\n",
    "\n",
    "# Jupyterの便利機能その3\n",
    "# 変数の後に?をつけて実行\n",
    "end?"
   ]
  },
  {
   "cell_type": "code",
   "execution_count": null,
   "metadata": {
    "slideshow": {
     "slide_type": "slide"
    }
   },
   "outputs": [],
   "source": [
    "#変数は上書きできる\n",
    "a = 15\n",
    "a = 25\n",
    "a?"
   ]
  },
  {
   "cell_type": "code",
   "execution_count": null,
   "metadata": {
    "slideshow": {
     "slide_type": "fragment"
    }
   },
   "outputs": [],
   "source": [
    "#文字も変数に代入できる\n",
    "greeting = \"Hello!\"\n",
    "\n",
    "greeting?"
   ]
  },
  {
   "cell_type": "code",
   "execution_count": null,
   "metadata": {
    "slideshow": {
     "slide_type": "slide"
    }
   },
   "outputs": [],
   "source": [
    "#なにが出力されるでしょうか\n",
    "#変数を使うときは、変数の中身が扱われる\n",
    "start = 1\n",
    "end = 100\n",
    "greeting = \"Hello!\"\n",
    "\n",
    "print(start)\n",
    "print(end)\n",
    "print(greeting)"
   ]
  },
  {
   "cell_type": "code",
   "execution_count": null,
   "metadata": {
    "slideshow": {
     "slide_type": "slide"
    }
   },
   "outputs": [],
   "source": [
    "#ここまでの復習\n",
    "x = 11\n",
    "y = 3 + 6 + x\n",
    "print(y)\n"
   ]
  },
  {
   "cell_type": "code",
   "execution_count": null,
   "metadata": {
    "slideshow": {
     "slide_type": "fragment"
    }
   },
   "outputs": [],
   "source": [
    "#1.右辺を左辺に入れる\n",
    "#2.変数を使うときは、変数の中身が扱われる\n",
    "x = x + y\n",
    "print(x)"
   ]
  },
  {
   "cell_type": "markdown",
   "metadata": {
    "slideshow": {
     "slide_type": "slide"
    }
   },
   "source": [
    "## 変数の何が便利か"
   ]
  },
  {
   "cell_type": "code",
   "execution_count": null,
   "metadata": {
    "slideshow": {
     "slide_type": "fragment"
    }
   },
   "outputs": [],
   "source": [
    "print(\"Hello!\")\n",
    "print(\"Hello!\")\n",
    "print(\"Hello!\")\n",
    "print(\"Hello!\")\n",
    "print(\"Hello!\")\n",
    "\n",
    "greeting = \"Hello!\"\n",
    "print(greeting)\n",
    "print(greeting)\n",
    "print(greeting)\n",
    "print(greeting)\n",
    "print(greeting)"
   ]
  },
  {
   "cell_type": "markdown",
   "metadata": {
    "slideshow": {
     "slide_type": "slide"
    }
   },
   "source": [
    "## 3. 数値型と文字型"
   ]
  },
  {
   "cell_type": "code",
   "execution_count": null,
   "metadata": {
    "slideshow": {
     "slide_type": "slide"
    }
   },
   "outputs": [],
   "source": [
    "#変数にはデータ型(データの種類)がある\n",
    "#データ型は様々あるがここでは数値型と文字型だけ説明\n",
    "\n",
    "# 数値型\n",
    "p = 11\n",
    "# 文字型 \"\"(ダブルコーテーション)または''(シングルコーテーション)で囲む\n",
    "q = \"こんにちは\""
   ]
  },
  {
   "cell_type": "code",
   "execution_count": null,
   "metadata": {
    "slideshow": {
     "slide_type": "fragment"
    }
   },
   "outputs": [],
   "source": [
    "#変数のデータ型をチェックできる\n",
    "#intは数値型(厳密には整数型)\n",
    "type(p)"
   ]
  },
  {
   "cell_type": "code",
   "execution_count": null,
   "metadata": {
    "slideshow": {
     "slide_type": "fragment"
    }
   },
   "outputs": [],
   "source": [
    "#strは文字型\n",
    "type(q)"
   ]
  },
  {
   "cell_type": "code",
   "execution_count": null,
   "metadata": {
    "slideshow": {
     "slide_type": "slide"
    }
   },
   "outputs": [],
   "source": [
    "#数値型?文字型?\n",
    "r = \"11\"\n",
    "type(r)"
   ]
  },
  {
   "cell_type": "markdown",
   "metadata": {
    "slideshow": {
     "slide_type": "slide"
    }
   },
   "source": [
    "## 4.繰り返しとリスト(概説)"
   ]
  },
  {
   "cell_type": "code",
   "execution_count": null,
   "metadata": {
    "slideshow": {
     "slide_type": "slide"
    }
   },
   "outputs": [],
   "source": [
    "# for 変数 in [リストなど]:\n",
    "#     (繰り返したい処理)\n",
    "\n",
    "#処理の流れ\n",
    "#1.[リスト]の1つ目を変数に代入\n",
    "#2.(繰り返したい処理)を実行\n",
    "#3.[リスト]の2つ目を変数に代入\n",
    "#4.(繰り返したい処理)を実行\n",
    "#5.以降リストの最後の項目まで繰り返し\n",
    "\n",
    "#(例)\n",
    "#リストを変数に代入\n",
    "my_list = [0, 1, 2]\n",
    "\n",
    "#リストのそれぞれの項目について出力を行う\n",
    "for i in my_list:\n",
    "    print(i)"
   ]
  },
  {
   "cell_type": "markdown",
   "metadata": {
    "slideshow": {
     "slide_type": "slide"
    }
   },
   "source": [
    "## 5.リスト"
   ]
  },
  {
   "cell_type": "code",
   "execution_count": null,
   "metadata": {
    "slideshow": {
     "slide_type": "slide"
    }
   },
   "outputs": [],
   "source": [
    "#リスト…複数のデータをまとめて入れられる\n",
    "#角カッコで囲む\n",
    "#各要素はカンマで区切る\n",
    "fruits = [\"りんご\", \"みかん\", \"ぶどう\"]\n",
    "fruits\n",
    "\n"
   ]
  },
  {
   "cell_type": "code",
   "execution_count": null,
   "metadata": {
    "slideshow": {
     "slide_type": "slide"
    }
   },
   "outputs": [],
   "source": [
    "#リストの各要素には順番を示す数字がふられている\n",
    "#前から0,1,2…→0始まり!\n",
    "#この数字のことをインデックス(添字)と呼ぶ\n",
    "\n",
    "fruits = [\"りんご\", \"みかん\", \"ぶどう\"]\n",
    "print(fruits[0])\n",
    "print(fruits[1])\n",
    "print(fruits[2])"
   ]
  },
  {
   "cell_type": "code",
   "execution_count": null,
   "metadata": {
    "slideshow": {
     "slide_type": "slide"
    }
   },
   "outputs": [],
   "source": [
    "#数値型の要素\n",
    "number = [1,2,3]\n",
    "print(number[0])\n",
    "print(number[1])\n",
    "print(number[2])"
   ]
  },
  {
   "cell_type": "code",
   "execution_count": null,
   "metadata": {
    "slideshow": {
     "slide_type": "slide"
    }
   },
   "outputs": [],
   "source": [
    "#型が異なるデータが混在してもOK\n",
    "my_list = [1,\"りんご\",2,\"みかん\"]\n",
    "print(my_list[0])\n",
    "print(my_list[1])\n",
    "print(my_list[2])\n",
    "print(my_list[3])"
   ]
  },
  {
   "cell_type": "markdown",
   "metadata": {
    "slideshow": {
     "slide_type": "slide"
    }
   },
   "source": [
    "## 6.range"
   ]
  },
  {
   "cell_type": "code",
   "execution_count": null,
   "metadata": {
    "slideshow": {
     "slide_type": "slide"
    }
   },
   "outputs": [],
   "source": [
    "# 1以上4未満の整数のリスト　[1,2,3]と同じ\n",
    "num_range = range(1,4)\n",
    "print(num_range[0])\n",
    "print(num_range[1])\n",
    "print(num_range[2])"
   ]
  },
  {
   "cell_type": "code",
   "execution_count": null,
   "metadata": {
    "slideshow": {
     "slide_type": "slide"
    }
   },
   "outputs": [],
   "source": [
    "# 0以上4未満の整数のリスト　[0,1,2,3]と同じ\n",
    "num_range = range(4)\n",
    "print(num_range[0])\n",
    "print(num_range[1])\n",
    "print(num_range[2])\n",
    "print(num_range[3])"
   ]
  },
  {
   "cell_type": "code",
   "execution_count": null,
   "metadata": {
    "slideshow": {
     "slide_type": "slide"
    }
   },
   "outputs": [],
   "source": [
    "# 5以上11未満の整数を1つ飛ばししたもののリスト\n",
    "num_range = range(5, 11, 2)\n",
    "print(num_range[0])\n",
    "print(num_range[1])\n",
    "print(num_range[2])"
   ]
  },
  {
   "cell_type": "markdown",
   "metadata": {
    "slideshow": {
     "slide_type": "slide"
    }
   },
   "source": [
    "## 7.繰り返し"
   ]
  },
  {
   "cell_type": "code",
   "execution_count": null,
   "metadata": {
    "slideshow": {
     "slide_type": "slide"
    }
   },
   "outputs": [],
   "source": [
    "# for 変数 in [リストなど]:\n",
    "#     (繰り返したい処理)\n",
    "\n",
    "#range(1,101)は1以上101未満の整数のリスト　つまり[1,2,3,…,100]\n",
    "for i in range(1,101):\n",
    "    print(i)\n",
    "\n",
    "#処理の流れ\n",
    "#1.range(1,101)のインデックス0番を変数iに代入\n",
    "#2.print(i)を実行\n",
    "#3.range(1,101)のインデックス1番を変数に代入\n",
    "#4.print(i)を実行\n",
    "#5.range(1,101)の最後の項目まで繰り返し"
   ]
  },
  {
   "cell_type": "code",
   "execution_count": null,
   "metadata": {
    "scrolled": false,
    "slideshow": {
     "slide_type": "slide"
    }
   },
   "outputs": [],
   "source": [
    "#例1と例2の結果の違いの原因はなにか\n",
    "my_list = [1,2,3]\n",
    "\n",
    "print(\"例1\")\n",
    "for i in my_list:\n",
    "    print(i)\n",
    "    print(i)\n",
    "\n",
    "print(\"例2\")\n",
    "for i in my_list:\n",
    "    print(i)\n",
    "print(i)\n",
    "#forのかたまりはインデントで下がっているところまで\n",
    "#だからインデントで下がってないところは繰り返されない"
   ]
  },
  {
   "cell_type": "markdown",
   "metadata": {
    "slideshow": {
     "slide_type": "slide"
    }
   },
   "source": [
    "## 8.条件分岐"
   ]
  },
  {
   "cell_type": "markdown",
   "metadata": {
    "slideshow": {
     "slide_type": "slide"
    }
   },
   "source": [
    "## 8.1. if/else"
   ]
  },
  {
   "cell_type": "code",
   "execution_count": null,
   "metadata": {
    "slideshow": {
     "slide_type": "fragment"
    }
   },
   "outputs": [],
   "source": [
    "x = 3\n",
    "# ifの後に書かれた条件を満たすときはifブロックに書かれた処理を実行しelseブロックは実行しない\n",
    "# ifの後に書かれた条件を満たさないときはelseブロックに書かれた処理を実行\n",
    "if x % 5 == 0:\n",
    "    print('5で割り切れる')\n",
    "else:\n",
    "    print('5で割り切れない')"
   ]
  },
  {
   "cell_type": "markdown",
   "metadata": {
    "slideshow": {
     "slide_type": "slide"
    }
   },
   "source": [
    "## 8.2. if/elif/else\n",
    "条件の数に応じてelifを増やす"
   ]
  },
  {
   "cell_type": "code",
   "execution_count": null,
   "metadata": {
    "slideshow": {
     "slide_type": "slide"
    }
   },
   "outputs": [],
   "source": [
    "x = 7\n",
    "# ifの後に書かれた条件を満たすときはifブロックに書かれた処理を実行しelifブロック・elseブロックは実行しない\n",
    "# ifの後に書かれた条件を満たさないときは次のelifブロックに書かれた条件を判断し,\n",
    "# 条件を満たすときはそのブロックの処理を実行して次のelifブロック・elseブロックは実行しない\n",
    "# 条件を満たさないときは次のelifブロックに書かれた条件を判断し,…\n",
    "# ifにもelifにも当てはまらないときはelseブロックの処理を実行\n",
    "\n",
    "if x % 3 == 0 and x % 5 == 0:\n",
    "    print('3でも5でも割り切れる')\n",
    "elif x % 3 == 0:\n",
    "    print('3で割り切れる')\n",
    "elif x % 5 == 0:\n",
    "    print('5で割り切れる')\n",
    "else:\n",
    "    print('3でも5でも割り切れない')"
   ]
  },
  {
   "cell_type": "markdown",
   "metadata": {
    "slideshow": {
     "slide_type": "slide"
    }
   },
   "source": [
    "## 9. 四則演算"
   ]
  },
  {
   "cell_type": "code",
   "execution_count": null,
   "metadata": {
    "slideshow": {
     "slide_type": "fragment"
    }
   },
   "outputs": [],
   "source": [
    "# 加算\n",
    "3 + 5"
   ]
  },
  {
   "cell_type": "code",
   "execution_count": null,
   "metadata": {
    "slideshow": {
     "slide_type": "fragment"
    }
   },
   "outputs": [],
   "source": [
    "# 減算\n",
    "100 - 20"
   ]
  },
  {
   "cell_type": "code",
   "execution_count": null,
   "metadata": {
    "slideshow": {
     "slide_type": "fragment"
    }
   },
   "outputs": [],
   "source": [
    "# 乗算\n",
    "6 * 8"
   ]
  },
  {
   "cell_type": "code",
   "execution_count": null,
   "metadata": {
    "slideshow": {
     "slide_type": "slide"
    }
   },
   "outputs": [],
   "source": [
    "# 除算\n",
    "7 / 2"
   ]
  },
  {
   "cell_type": "code",
   "execution_count": null,
   "metadata": {
    "slideshow": {
     "slide_type": "fragment"
    }
   },
   "outputs": [],
   "source": [
    "# 除算（切捨て）\n",
    "7 // 2"
   ]
  },
  {
   "cell_type": "code",
   "execution_count": null,
   "metadata": {
    "slideshow": {
     "slide_type": "fragment"
    }
   },
   "outputs": [],
   "source": [
    "# 剰余\n",
    "7 % 5"
   ]
  },
  {
   "cell_type": "code",
   "execution_count": null,
   "metadata": {
    "slideshow": {
     "slide_type": "slide"
    }
   },
   "outputs": [],
   "source": [
    "# 指数\n",
    "2 ** 3"
   ]
  },
  {
   "cell_type": "markdown",
   "metadata": {
    "slideshow": {
     "slide_type": "slide"
    }
   },
   "source": [
    "## 10. 文字列の + と* "
   ]
  },
  {
   "cell_type": "code",
   "execution_count": null,
   "metadata": {
    "slideshow": {
     "slide_type": "fragment"
    }
   },
   "outputs": [],
   "source": [
    "# 文字列連結\n",
    "'abc' + 'def'"
   ]
  },
  {
   "cell_type": "code",
   "execution_count": null,
   "metadata": {
    "slideshow": {
     "slide_type": "fragment"
    }
   },
   "outputs": [],
   "source": [
    "# 文字列繰り返し\n",
    "'abc' * 3"
   ]
  },
  {
   "cell_type": "markdown",
   "metadata": {
    "slideshow": {
     "slide_type": "slide"
    }
   },
   "source": [
    "## 11.条件演算子"
   ]
  },
  {
   "cell_type": "code",
   "execution_count": null,
   "metadata": {
    "slideshow": {
     "slide_type": "fragment"
    }
   },
   "outputs": [],
   "source": [
    "#より大きい\n",
    "1 > 2"
   ]
  },
  {
   "cell_type": "code",
   "execution_count": null,
   "metadata": {
    "slideshow": {
     "slide_type": "fragment"
    }
   },
   "outputs": [],
   "source": [
    "#以上\n",
    "2 >= 2"
   ]
  },
  {
   "cell_type": "code",
   "execution_count": null,
   "metadata": {
    "slideshow": {
     "slide_type": "fragment"
    }
   },
   "outputs": [],
   "source": [
    "#より小さい\n",
    "1 < 2"
   ]
  },
  {
   "cell_type": "code",
   "execution_count": null,
   "metadata": {
    "slideshow": {
     "slide_type": "slide"
    }
   },
   "outputs": [],
   "source": [
    "#以下\n",
    "2 <= 2"
   ]
  },
  {
   "cell_type": "code",
   "execution_count": null,
   "metadata": {
    "slideshow": {
     "slide_type": "fragment"
    }
   },
   "outputs": [],
   "source": [
    "#等しい\n",
    "# =(イコール)が2つなことに注意(代入の場合のイコール1つとは別物)\n",
    "1 == 1"
   ]
  },
  {
   "cell_type": "code",
   "execution_count": null,
   "metadata": {
    "slideshow": {
     "slide_type": "fragment"
    }
   },
   "outputs": [],
   "source": [
    "# 等しくない\n",
    "1 != 2"
   ]
  },
  {
   "cell_type": "code",
   "execution_count": null,
   "metadata": {
    "slideshow": {
     "slide_type": "slide"
    }
   },
   "outputs": [],
   "source": [
    "# and\n",
    "x = 11\n",
    "1 < x and x <10"
   ]
  },
  {
   "cell_type": "code",
   "execution_count": null,
   "metadata": {
    "slideshow": {
     "slide_type": "fragment"
    }
   },
   "outputs": [],
   "source": [
    "# or\n",
    "x = 5\n",
    "1 < x or x < 4 "
   ]
  },
  {
   "cell_type": "code",
   "execution_count": null,
   "metadata": {
    "slideshow": {
     "slide_type": "fragment"
    }
   },
   "outputs": [],
   "source": [
    "# not\n",
    "x = 5\n",
    "not x < 4 "
   ]
  },
  {
   "cell_type": "code",
   "execution_count": null,
   "metadata": {
    "slideshow": {
     "slide_type": "slide"
    }
   },
   "outputs": [],
   "source": [
    "# 要素になっている\n",
    "'a' in 'abc'"
   ]
  },
  {
   "cell_type": "markdown",
   "metadata": {
    "slideshow": {
     "slide_type": "slide"
    }
   },
   "source": [
    "## ここまでの復習"
   ]
  },
  {
   "cell_type": "code",
   "execution_count": null,
   "metadata": {
    "slideshow": {
     "slide_type": "fragment"
    }
   },
   "outputs": [],
   "source": [
    "#1から100のFizzBuzzを書いてみましょう"
   ]
  },
  {
   "cell_type": "code",
   "execution_count": null,
   "metadata": {
    "slideshow": {
     "slide_type": "fragment"
    }
   },
   "outputs": [],
   "source": [
    "start = 1\n",
    "end = 100\n",
    "\n",
    "for num in range(start,end+1):\n",
    "    if num % 3 == 0 and num % 5 == 0:\n",
    "        print(\"FizzBuzz\")\n",
    "    elif num % 3 == 0:\n",
    "        print(\"Fizz\")\n",
    "    elif num % 5 == 0:\n",
    "        print(\"Buzz\")\n",
    "    else:\n",
    "        print(num)"
   ]
  },
  {
   "cell_type": "markdown",
   "metadata": {
    "slideshow": {
     "slide_type": "slide"
    }
   },
   "source": [
    "## FizzBuzzを3回戦までやるとしたらどう書くか"
   ]
  },
  {
   "cell_type": "code",
   "execution_count": null,
   "metadata": {
    "slideshow": {
     "slide_type": "slide"
    }
   },
   "outputs": [],
   "source": [
    "#1回戦\n",
    "start = 1\n",
    "end = 100\n",
    "\n",
    "for num in range(1,end+1):\n",
    "    if num % 3 == 0 and num % 5 == 0:\n",
    "        print(\"FizzBuzz\")\n",
    "    elif num % 3 == 0:\n",
    "        print(\"Fizz\")\n",
    "    elif num % 5 == 0:\n",
    "        print(\"Buzz\")\n",
    "    else:\n",
    "        print(num)\n",
    "#2回戦\n",
    "start = 1\n",
    "end = 100\n",
    "\n",
    "for num in range(1,end+1):\n",
    "    if num % 3 == 0 and num % 5 == 0:\n",
    "        print(\"FizzBuzz\")\n",
    "    elif num % 3 == 0:\n",
    "        print(\"Fizz\")\n",
    "    elif num % 5 == 0:\n",
    "        print(\"Buzz\")\n",
    "    else:\n",
    "        print(num)\n",
    "#3回戦\n",
    "start = 1\n",
    "end = 100\n",
    "\n",
    "for num in range(1,end+1):\n",
    "    if num % 3 == 0 and num % 5 == 0:\n",
    "        print(\"FizzBuzz\")\n",
    "    elif num % 3 == 0:\n",
    "        print(\"Fizz\")\n",
    "    elif num % 5 == 0:\n",
    "        print(\"Buzz\")\n",
    "    else:\n",
    "        print(num)"
   ]
  },
  {
   "cell_type": "markdown",
   "metadata": {
    "slideshow": {
     "slide_type": "slide"
    }
   },
   "source": [
    "## 12.関数"
   ]
  },
  {
   "cell_type": "markdown",
   "metadata": {
    "slideshow": {
     "slide_type": "fragment"
    }
   },
   "source": [
    "繰り返し同じことを書かないために便利  \n",
    "ひとまとまりの処理に名前をつけて、  \n",
    "名前で呼び出すことで処理を実行できる"
   ]
  },
  {
   "cell_type": "code",
   "execution_count": null,
   "metadata": {
    "slideshow": {
     "slide_type": "slide"
    }
   },
   "outputs": [],
   "source": [
    "# def 関数名():\n",
    "# (インデント)まとめたい処理\n",
    "def FizzBuzz():\n",
    "    start = 1\n",
    "    end = 100\n",
    "\n",
    "    for num in range(start,end+1):\n",
    "        if num % 3 == 0 and num % 5 == 0:\n",
    "            print(\"FizzBuzz\")\n",
    "        elif num % 3 == 0:\n",
    "            print(\"Fizz\")\n",
    "        elif num % 5 == 0:\n",
    "            print(\"Buzz\")\n",
    "        else:\n",
    "            print(num)\n"
   ]
  },
  {
   "cell_type": "code",
   "execution_count": null,
   "metadata": {
    "slideshow": {
     "slide_type": "slide"
    }
   },
   "outputs": [],
   "source": [
    "#関数の呼び出し\n",
    "#関数名()\n",
    "\n",
    "print(\"1回戦\")\n",
    "FizzBuzz()\n",
    "print(\"2回戦\")\n",
    "FizzBuzz()\n",
    "print(\"3回戦\")\n",
    "FizzBuzz()\n"
   ]
  },
  {
   "cell_type": "markdown",
   "metadata": {
    "slideshow": {
     "slide_type": "slide"
    }
   },
   "source": [
    "## 1回戦のFizzBuzzは1から100、2回戦のFizzBuzzは101から200でやりたい"
   ]
  },
  {
   "cell_type": "code",
   "execution_count": null,
   "metadata": {
    "slideshow": {
     "slide_type": "slide"
    }
   },
   "outputs": [],
   "source": [
    "#1回戦用の関数\n",
    "def FizzBuzz1st():\n",
    "    start = 1\n",
    "    end = 100\n",
    "\n",
    "    for num in range(start,end+1):\n",
    "        if num % 3 == 0 and num % 5 == 0:\n",
    "            print(\"FizzBuzz\")\n",
    "        elif num % 3 == 0:\n",
    "            print(\"Fizz\")\n",
    "        elif num % 5 == 0:\n",
    "            print(\"Buzz\")\n",
    "        else:\n",
    "            print(num)\n",
    "\n",
    "#2回戦用の関数\n",
    "def FizzBuzz2nd():\n",
    "    start = 101\n",
    "    end = 200\n",
    "\n",
    "    for num in range(start,end+1):\n",
    "        if num % 3 == 0 and num % 5 == 0:\n",
    "            print(\"FizzBuzz\")\n",
    "        elif num % 3 == 0:\n",
    "            print(\"Fizz\")\n",
    "        elif num % 5 == 0:\n",
    "            print(\"Buzz\")\n",
    "        else:\n",
    "            print(num)\n"
   ]
  },
  {
   "cell_type": "markdown",
   "metadata": {
    "slideshow": {
     "slide_type": "slide"
    }
   },
   "source": [
    "## 13.関数に引数を与える"
   ]
  },
  {
   "cell_type": "markdown",
   "metadata": {
    "slideshow": {
     "slide_type": "fragment"
    }
   },
   "source": [
    "同じ関数でも場合によって結果を変えたいとき\n",
    "場合によって変えたいものを引数とする"
   ]
  },
  {
   "cell_type": "code",
   "execution_count": null,
   "metadata": {
    "slideshow": {
     "slide_type": "slide"
    }
   },
   "outputs": [],
   "source": [
    "# ()の中に引数として指定したい変数を入れる\n",
    "def FizzBuzz(start,end):\n",
    "    #始まりの数と終わりの数を場合によって変えたいので引数とする\n",
    "    #start = 101\n",
    "    #end = 200\n",
    "    \n",
    "    for num in range(start,end+1):\n",
    "        if num % 3 == 0 and num % 5 == 0:\n",
    "            print(\"FizzBuzz\")\n",
    "        elif num % 3 == 0:\n",
    "            print(\"Fizz\")\n",
    "        elif num % 5 == 0:\n",
    "            print(\"Buzz\")\n",
    "        else:\n",
    "            print(num)"
   ]
  },
  {
   "cell_type": "code",
   "execution_count": null,
   "metadata": {
    "slideshow": {
     "slide_type": "slide"
    }
   },
   "outputs": [],
   "source": [
    "#引数を指定しての関数の呼び出し\n",
    "#関数名(引数)\n",
    "print(\"1回戦\")\n",
    "FizzBuzz(1,100)\n",
    "print(\"2回戦\")\n",
    "FizzBuzz(101,200)"
   ]
  },
  {
   "cell_type": "markdown",
   "metadata": {
    "slideshow": {
     "slide_type": "slide"
    }
   },
   "source": [
    "## ここまでの復習"
   ]
  },
  {
   "cell_type": "code",
   "execution_count": null,
   "metadata": {
    "slideshow": {
     "slide_type": "fragment"
    }
   },
   "outputs": [],
   "source": [
    "始まりと終わりの値を指定すると\n",
    "始まりの値以上、終わりの値以下でFizzBuzzを出力するプログラムを書いてみよう"
   ]
  },
  {
   "cell_type": "code",
   "execution_count": null,
   "metadata": {
    "slideshow": {
     "slide_type": "fragment"
    }
   },
   "outputs": [],
   "source": [
    "def FizzBuzz(start,end):    \n",
    "    for i in range(start,end+1):\n",
    "        if i % 3 == 0 and num % 5 == 0:\n",
    "            print(\"FizzBuzz\")\n",
    "        elif i % 3 == 0:\n",
    "            print(\"Fizz\")\n",
    "        elif i % 5 == 0:\n",
    "            print(\"Buzz\")\n",
    "        else:\n",
    "            print(i)\n",
    "            \n",
    "FizzBuzz(150,170)"
   ]
  },
  {
   "cell_type": "markdown",
   "metadata": {
    "slideshow": {
     "slide_type": "slide"
    }
   },
   "source": [
    "## 補足・オブジェクト指向とは？"
   ]
  },
  {
   "cell_type": "markdown",
   "metadata": {
    "slideshow": {
     "slide_type": "fragment"
    }
   },
   "source": [
    "- 継承\n",
    "- カプセル化\n",
    "- ポリモーフィズム（多態性)  \n",
    "\n",
    "参考になる記事  \n",
    "http://tdak.hateblo.jp/entry/20140406/1396773476\n",
    "\n"
   ]
  },
  {
   "cell_type": "markdown",
   "metadata": {
    "slideshow": {
     "slide_type": "slide"
    }
   },
   "source": [
    "## 注）言語がオブジェクト指向だからといってプログラムがオブジェクト指向になるとは限らない"
   ]
  },
  {
   "cell_type": "markdown",
   "metadata": {
    "slideshow": {
     "slide_type": "slide"
    }
   },
   "source": [
    "## ちょっとした環境構築"
   ]
  },
  {
   "cell_type": "markdown",
   "metadata": {
    "slideshow": {
     "slide_type": "slide"
    }
   },
   "source": [
    "## TensorFlowインストール\n",
    "\n",
    "AnacondaPromptを開いて\n",
    "\n",
    "pip install tensorflow\n",
    "\n",
    "もしくは\n",
    "\n",
    "pip install tensorflow==1.5.0"
   ]
  },
  {
   "cell_type": "markdown",
   "metadata": {
    "slideshow": {
     "slide_type": "slide"
    }
   },
   "source": [
    "## TensorFlowとは？\n",
    "\n",
    "<img src=\"https://www.ksk-anl.com/wp-content/uploads/2018/02/TensorFlow_logo.png\" width=\"40%\">\n",
    "\n",
    "オープンソースの機械学習ライブラリ。\n",
    "\n",
    "主に深層学習(ディープラーニング)で利用される。"
   ]
  },
  {
   "cell_type": "markdown",
   "metadata": {
    "slideshow": {
     "slide_type": "slide"
    }
   },
   "source": [
    "## 補足"
   ]
  },
  {
   "cell_type": "markdown",
   "metadata": {
    "slideshow": {
     "slide_type": "slide"
    }
   },
   "source": [
    "## Python チュートリアル\n",
    "\n",
    "https://docs.python.jp/3/tutorial/"
   ]
  },
  {
   "cell_type": "markdown",
   "metadata": {
    "slideshow": {
     "slide_type": "slide"
    }
   },
   "source": [
    "## コーディング規約（pep8）\n",
    "\n",
    "http://pep8-ja.readthedocs.io/ja/latest/"
   ]
  },
  {
   "cell_type": "markdown",
   "metadata": {
    "slideshow": {
     "slide_type": "slide"
    }
   },
   "source": [
    "\n",
    "## 質疑応答"
   ]
  }
 ],
 "metadata": {
  "celltoolbar": "Slideshow",
  "kernelspec": {
   "display_name": "Python 3",
   "language": "python",
   "name": "python3"
  },
  "language_info": {
   "codemirror_mode": {
    "name": "ipython",
    "version": 3
   },
   "file_extension": ".py",
   "mimetype": "text/x-python",
   "name": "python",
   "nbconvert_exporter": "python",
   "pygments_lexer": "ipython3",
   "version": "3.6.4"
  }
 },
 "nbformat": 4,
 "nbformat_minor": 2
}
